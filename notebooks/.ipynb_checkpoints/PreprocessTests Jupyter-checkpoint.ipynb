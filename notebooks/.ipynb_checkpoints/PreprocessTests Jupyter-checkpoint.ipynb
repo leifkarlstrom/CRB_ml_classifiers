{
 "cells": [
  {
   "cell_type": "markdown",
   "metadata": {},
   "source": [
    "### Code to test a variety of preprocessing steps prior to classification and clustering\n",
    "\n",
    "Preprocess Steps Tested:\n",
    "    - Expansion by Ratios\n",
    "    - Data Reduction via NMF and PCA\n",
    "    - Data Normalization via MinMax Scaler, Power Transformation, and by composition\n",
    "    - Data Standardization via Standard Scaler and Robust Scaler\n",
    "\n",
    "For each of these transformations and combinations of transformations, we measure the\n",
    "unsupervised clustering via HCV scores and evaluate the supervised classification via\n",
    "accuracy, precision and recall. \n",
    "\n",
    "In addition to understanding what is going on behind the curtain, we utilize statistical analysis (i.e. Dip Test, variation, correlation etc.) to evaluate how the structure of the data affects the outcomes and preprocessing steps that will be useful for geochemical data."
   ]
  },
  {
   "cell_type": "markdown",
   "metadata": {},
   "source": [
    "## Initialize a bunch of stuff"
   ]
  },
  {
   "cell_type": "code",
   "execution_count": 3,
   "metadata": {},
   "outputs": [],
   "source": [
    "import sys\n",
    "sys.path.append('../data/')\n",
    "sys.path.append('../scripts/')\n",
    "\n",
    "import matplotlib.pyplot as plt\n",
    "from sklearn.datasets import make_classification\n",
    "from sklearn.datasets import make_blobs\n",
    "from sklearn.datasets import make_gaussian_quantiles\n",
    "from sklearn import linear_model, datasets\n",
    "from scipy.cluster import hierarchy\n",
    "from sklearn.metrics import silhouette_samples, silhouette_score, homogeneity_completeness_v_measure\n",
    "from scipy.cluster.hierarchy import dendrogram\n",
    "import matplotlib.cm as cm\n",
    "import numpy as np\n",
    "from sklearn.decomposition import PCA\n",
    "import pandas as pd\n",
    "#from pandas.plotting import scatter_matrix\n",
    "from sklearn.linear_model import LogisticRegression\n",
    "from sklearn.model_selection import train_test_split\n",
    "import time\n",
    "from sklearn.metrics import confusion_matrix\n",
    "from sklearn import metrics\n",
    "import seaborn as sns\n",
    "from sklearn.preprocessing import StandardScaler\n",
    "from sklearn.cluster import KMeans\n",
    "from sklearn.cluster import DBSCAN\n",
    "from sklearn.cluster import SpectralClustering\n",
    "from sklearn.cluster import AgglomerativeClustering\n",
    "import statistics as st\n",
    "from mpl_toolkits.mplot3d import Axes3D\n",
    "from sklearn.metrics.cluster import v_measure_score\n",
    "from scipy import stats\n",
    "from sklearn.preprocessing import Normalizer\n",
    "from sklearn.decomposition import NMF\n",
    "from sklearn.neighbors import KernelDensity\n",
    "from sklearn.model_selection import GridSearchCV\n",
    "from scipy.signal import find_peaks\n",
    "from scipy import stats\n",
    "import scipy.sparse\n",
    "from scipy.stats import variation\n",
    "#import plotly.express as px\n",
    "#from plotly.offline import download_plotlyjs, init_notebook_mode,  plot\n",
    "from itertools import combinations\n",
    "from scipy import mean\n",
    "from unidip import UniDip\n",
    "import unidip.dip as dip\n",
    "from sklearn.preprocessing import MinMaxScaler\n",
    "from sklearn.preprocessing import RobustScaler\n",
    "from sklearn.preprocessing import PowerTransformer\n",
    "\n",
    "import GeochemFunctions"
   ]
  },
  {
   "cell_type": "code",
   "execution_count": 4,
   "metadata": {},
   "outputs": [],
   "source": [
    "####### Make sure all plots are closed\n",
    "\n",
    "plt.close('all')"
   ]
  },
  {
   "cell_type": "markdown",
   "metadata": {},
   "source": [
    "## Step 1: Import Data"
   ]
  },
  {
   "cell_type": "code",
   "execution_count": null,
   "metadata": {},
   "outputs": [],
   "source": [
    "###### Import Hawaii Data from Computer\n",
    "\n",
    "df= pd.read_csv('Hawaii Loa Kea Dataset for Clustering Iso Major.csv', header=0)\n",
    "df_best_dip_= pd.read_csv('Hawaii Loa Kea Dataset for Clustering Iso Major best features.csv', header=0)\n",
    "df_best_dip=df_best_dip_.dropna()\n",
    "labels_best_dip=df_best_dip.loc[:,'Trend'] \n",
    "df_bd = df_best_dip.drop(columns=['Trend','Volcano'])"
   ]
  },
  {
   "cell_type": "code",
   "execution_count": 3,
   "metadata": {},
   "outputs": [],
   "source": [
    "##### Import Hawaii Data from Online\n",
    "\n",
    "url='https://drive.google.com/file/d/1459wwad2BjHSmSL75HQq40F4WO1AtK1l/view?usp=sharing'\n",
    "path='https://drive.google.com/uc?export=download&id='+ url.split('/')[-2]\n",
    "df=pd.read_csv(path, header=0)\n",
    "\n",
    "data=df.dropna()\n",
    "labels= data.loc[:,'Trend'] \n",
    "df1 = data.drop(columns=['Trend','Volcano'])"
   ]
  },
  {
   "cell_type": "code",
   "execution_count": 5,
   "metadata": {},
   "outputs": [],
   "source": [
    "### Import Data for Global Basalt Data (Full Dataset)\n",
    "\n",
    "#df= pd.read_csv('tec discrim diagrams.csv', header=0)\n",
    "\n",
    "#### From Online\n",
    "url='https://drive.google.com/file/d/1is0yOmR6e5NnFRS_aWXT7028A_Hyg8nB/view?usp=sharing'\n",
    "path='https://drive.google.com/uc?export=download&id='+ url.split('/')[-2]\n",
    "data=pd.read_csv(path, header=0)\n",
    "\n",
    "\n",
    "data.dropna()\n",
    "labels= data.loc[:,'Cluster_ID'] \n",
    "df1 = data.drop(columns=['Cluster_ID', 'Number'])"
   ]
  },
  {
   "cell_type": "markdown",
   "metadata": {},
   "source": [
    "## Step 2 Transform/Preprocess Data"
   ]
  },
  {
   "cell_type": "markdown",
   "metadata": {},
   "source": [
    "# 1. Make Ratios/Expand Dataset (prior to other preprocessing steps)"
   ]
  },
  {
   "cell_type": "code",
   "execution_count": null,
   "metadata": {},
   "outputs": [],
   "source": [
    "########### Make Ratios\n",
    "\n",
    "cc = list(combinations(df1.columns,2))\n",
    "features_ratios = pd.concat([df1[c[1]].divide(df1[c[0]]) for c in cc], axis=1, keys=cc)\n",
    "Features_=np.concatenate([df1,features_ratios], axis=1)\n",
    "df2 = pd.DataFrame(Features_)"
   ]
  },
  {
   "cell_type": "code",
   "execution_count": null,
   "metadata": {},
   "outputs": [],
   "source": [
    "#### Attempt 2 without using concatenate from Rachel\n",
    "\n",
    "for a, b in combinations(df1.columns, 2):\n",
    "    df1[f'{a}/{b}'] = df1[a].div(df1[b])"
   ]
  },
  {
   "cell_type": "code",
   "execution_count": 6,
   "metadata": {},
   "outputs": [],
   "source": [
    "#### Uses makeratios function in external script (LK added!)\n",
    "df2 = GeochemFunctions.makeratios(df1)"
   ]
  },
  {
   "cell_type": "markdown",
   "metadata": {},
   "source": [
    "# 2. Normalizations"
   ]
  },
  {
   "cell_type": "code",
   "execution_count": null,
   "metadata": {},
   "outputs": [],
   "source": [
    "# Min Max Scaler\n",
    "\n",
    "minmax_S= MinMaxScaler().fit_transform(df1)\n",
    "df_MM =pd.DataFrame(minmax_S)"
   ]
  },
  {
   "cell_type": "code",
   "execution_count": 8,
   "metadata": {},
   "outputs": [
    {
     "name": "stderr",
     "output_type": "stream",
     "text": [
      "/Users/leifkarlstrom/opt/anaconda3/lib/python3.8/site-packages/sklearn/preprocessing/_data.py:3202: RuntimeWarning: overflow encountered in power\n",
      "  out[pos] = (np.power(x[pos] + 1, lmbda) - 1) / lmbda\n",
      "/Users/leifkarlstrom/opt/anaconda3/lib/python3.8/site-packages/numpy/core/_methods.py:232: RuntimeWarning: overflow encountered in multiply\n",
      "  x = um.multiply(x, x, out=x)\n",
      "/Users/leifkarlstrom/opt/anaconda3/lib/python3.8/site-packages/numpy/core/_methods.py:243: RuntimeWarning: overflow encountered in reduce\n",
      "  ret = umr_sum(x, axis, dtype, out, keepdims=keepdims, where=where)\n",
      "/Users/leifkarlstrom/opt/anaconda3/lib/python3.8/site-packages/sklearn/preprocessing/_data.py:3237: RuntimeWarning: divide by zero encountered in log\n",
      "  loglike = -n_samples / 2 * np.log(x_trans.var())\n"
     ]
    }
   ],
   "source": [
    "# Power Transformation (i.e. Box Cox Transformation)\n",
    "\n",
    "features_PT= PowerTransformer().fit_transform(df1)\n",
    "df_PT =pd.DataFrame(features_PT)"
   ]
  },
  {
   "cell_type": "code",
   "execution_count": null,
   "metadata": {},
   "outputs": [],
   "source": [
    "# Normalizer \n",
    "\n",
    "features_N= Normalizer().fit_transform(df1)\n",
    "df_N =pd.DataFrame(features_N)"
   ]
  },
  {
   "cell_type": "code",
   "execution_count": null,
   "metadata": {},
   "outputs": [],
   "source": [
    "# Norm by average composition of each column\n",
    "\n",
    "avgs= df1.mean()\n",
    "df_NORM1 = df1.divide(avgs, axis=1)"
   ]
  },
  {
   "cell_type": "markdown",
   "metadata": {},
   "source": [
    "# 3. Standardizations"
   ]
  },
  {
   "cell_type": "code",
   "execution_count": null,
   "metadata": {},
   "outputs": [],
   "source": [
    "# Standard Scaler\n",
    "\n",
    "features_S= StandardScaler().fit_transform(df2)\n",
    "df_S =pd.DataFrame(features_S)"
   ]
  },
  {
   "cell_type": "code",
   "execution_count": 7,
   "metadata": {},
   "outputs": [
    {
     "ename": "NameError",
     "evalue": "name 'df_PT' is not defined",
     "output_type": "error",
     "traceback": [
      "\u001b[0;31m---------------------------------------------------------------------------\u001b[0m",
      "\u001b[0;31mNameError\u001b[0m                                 Traceback (most recent call last)",
      "\u001b[0;32m/var/folders/g1/4bpvq9317h784qdvg53mt35r0000gn/T/ipykernel_50079/4250996929.py\u001b[0m in \u001b[0;36m<module>\u001b[0;34m\u001b[0m\n\u001b[1;32m      1\u001b[0m \u001b[0;31m# Robust Scaler\u001b[0m\u001b[0;34m\u001b[0m\u001b[0;34m\u001b[0m\u001b[0;34m\u001b[0m\u001b[0m\n\u001b[1;32m      2\u001b[0m \u001b[0;34m\u001b[0m\u001b[0m\n\u001b[0;32m----> 3\u001b[0;31m \u001b[0mfeatures_RS\u001b[0m\u001b[0;34m=\u001b[0m \u001b[0mRobustScaler\u001b[0m\u001b[0;34m(\u001b[0m\u001b[0;34m)\u001b[0m\u001b[0;34m.\u001b[0m\u001b[0mfit_transform\u001b[0m\u001b[0;34m(\u001b[0m\u001b[0mdf_PT\u001b[0m\u001b[0;34m)\u001b[0m\u001b[0;34m\u001b[0m\u001b[0;34m\u001b[0m\u001b[0m\n\u001b[0m\u001b[1;32m      4\u001b[0m \u001b[0mdf_RS\u001b[0m \u001b[0;34m=\u001b[0m\u001b[0mpd\u001b[0m\u001b[0;34m.\u001b[0m\u001b[0mDataFrame\u001b[0m\u001b[0;34m(\u001b[0m\u001b[0mfeatures_RS\u001b[0m\u001b[0;34m)\u001b[0m\u001b[0;34m\u001b[0m\u001b[0;34m\u001b[0m\u001b[0m\n",
      "\u001b[0;31mNameError\u001b[0m: name 'df_PT' is not defined"
     ]
    }
   ],
   "source": [
    "# Robust Scaler\n",
    "\n",
    "features_RS= RobustScaler().fit_transform(df_PT)\n",
    "df_RS =pd.DataFrame(features_RS)"
   ]
  },
  {
   "cell_type": "markdown",
   "metadata": {},
   "source": [
    "# 1.2 *If need to test ratios after other transformations, this can be used for that*"
   ]
  },
  {
   "cell_type": "code",
   "execution_count": null,
   "metadata": {},
   "outputs": [],
   "source": [
    "########### Make Ratios\n",
    "\n",
    "cc = list(combinations(df1.columns,2))\n",
    "features_ratios = pd.concat([df1[c[1]].divide(df1[c[0]]) for c in cc], axis=1, keys=cc)\n",
    "Features_=np.concatenate([df1,features_ratios], axis=1)\n",
    "df2 = pd.DataFrame(Features_)"
   ]
  },
  {
   "cell_type": "markdown",
   "metadata": {},
   "source": [
    "# 4. Data Reduction and Transformation"
   ]
  },
  {
   "cell_type": "markdown",
   "metadata": {},
   "source": [
    "# PCA "
   ]
  },
  {
   "cell_type": "code",
   "execution_count": 8,
   "metadata": {},
   "outputs": [],
   "source": [
    "# PCA Data\n",
    "\n",
    "#choose here whether to look at expanded data (w ratios, as df2) or original (df1)\n",
    "df = df1\n",
    "\n",
    "pca1 = PCA(whiten=True)\n",
    "pca_data = pca1.fit_transform(df)\n",
    "df_PC = pd.DataFrame(pca_data)\n",
    "components1 = pca1.components_"
   ]
  },
  {
   "cell_type": "code",
   "execution_count": 9,
   "metadata": {},
   "outputs": [
    {
     "data": {
      "text/plain": [
       "Text(0, 0.5, 'Fraction of variance explained')"
      ]
     },
     "execution_count": 9,
     "metadata": {},
     "output_type": "execute_result"
    },
    {
     "data": {
      "image/png": "[encoded data removed]",
      "text/plain": [
       "<Figure size 432x288 with 1 Axes>"
      ]
     },
     "metadata": {
      "needs_background": "light"
     },
     "output_type": "display_data"
    },
    {
     "data": {
      "image/png": "[encoded data removed]",
      "text/plain": [
       "<Figure size 432x288 with 1 Axes>"
      ]
     },
     "metadata": {
      "needs_background": "light"
     },
     "output_type": "display_data"
    },
    {
     "data": {
      "image/png": "[encoded data removed]",
      "text/plain": [
       "<Figure size 432x288 with 1 Axes>"
      ]
     },
     "metadata": {
      "needs_background": "light"
     },
     "output_type": "display_data"
    },
    {
     "data": {
      "image/png": "[encoded data removed]",
      "text/plain": [
       "<Figure size 432x288 with 1 Axes>"
      ]
     },
     "metadata": {
      "needs_background": "light"
     },
     "output_type": "display_data"
    }
   ],
   "source": [
    "##### PCA Eigenvector Bar Plots\n",
    "\n",
    "x=np.array([1,2,3])\n",
    "plt.figure()\n",
    "plt.bar(list(df.columns.values), components1[0])\n",
    "plt.title('PC1')\n",
    "plt.ylabel('Eigenvector')\n",
    "plt.xticks(rotation='vertical')\n",
    "\n",
    "plt.figure()\n",
    "plt.bar(list(df.columns.values), components1[1])\n",
    "plt.title('PC2')\n",
    "plt.ylabel('Eigenvector')\n",
    "plt.xticks(rotation='vertical')\n",
    "\n",
    "plt.figure()\n",
    "plt.bar(list(df.columns.values), components1[2])\n",
    "plt.title('PC2')\n",
    "plt.ylabel('Eigenvector')\n",
    "plt.xticks(rotation='vertical')\n",
    "\n",
    "\n",
    "plt.figure()\n",
    "plt.plot(range(len(pca1.explained_variance_ratio_)),np.cumsum(pca1.explained_variance_ratio_))\n",
    "plt.axis('tight')\n",
    "plt.axhline(y = .95, color='k', linestyle='--', label = '95% Explained Variance')\n",
    "plt.axhline(y = .90, color='c', linestyle='--', label = '90% Explained Variance')\n",
    "plt.axhline(y = .85, color='r', linestyle='--', label = '85% Explained Variance')\n",
    "plt.legend(loc='best')\n",
    "plt.grid(b=True)\n",
    "plt.xlabel('Dimensions Included')\n",
    "plt.ylabel('Fraction of variance explained')"
   ]
  },
  {
   "cell_type": "code",
   "execution_count": 10,
   "metadata": {},
   "outputs": [
    {
     "name": "stdout",
     "output_type": "stream",
     "text": [
      "29\n"
     ]
    },
    {
     "data": {
      "image/png": "[encoded data removed]",
      "text/plain": [
       "<Figure size 360x360 with 1 Axes>"
      ]
     },
     "metadata": {
      "needs_background": "light"
     },
     "output_type": "display_data"
    }
   ],
   "source": [
    "###### PCA Biplot\n",
    "\n",
    "elements=list(df.columns.values)\n",
    "#['SIO2', 'TIO2', 'AL2O3', 'CAO','MGO', 'MNO', 'K2O', 'NA2O', 'P2O5', 'PB206_PB204', 'PB207_PB204', 'PB208_PB204']\n",
    "print(len(elements))\n",
    "def myplot(score,coeff,labels=elements):\n",
    "    xs = score[:,0]\n",
    "    ys = score[:,1]\n",
    "    n = coeff.shape[0]\n",
    "    scalex = 1.0/(xs.max() - xs.min())\n",
    "    scaley = 1.0/(ys.max() - ys.min())\n",
    "    plt.scatter(xs * scalex,ys * scaley, c=data.loc[:,'Cluster_ID']) #c = y\n",
    "    for i in range(n):\n",
    "        plt.arrow(0, 0, coeff[i,0], coeff[i,1],color = 'r',alpha = 0.5)\n",
    "        if labels is None:\n",
    "            plt.text(coeff[i,0]* 1, coeff[i,1] * 1, \"Element\"+str(i+1), color = 'g', ha = 'center', va = 'center')\n",
    "        else:\n",
    "            plt.text(coeff[i,0]* 1, coeff[i,1] * 1, labels[i], color = 'g', ha = 'center', va = 'center')\n",
    "\n",
    "\n",
    "#Call the function. Use only the 2 PCs.\n",
    "plt.figure(figsize=(5,5))\n",
    "myplot(pca_data[:,0:2],np.transpose(pca1.components_[0:2, :]))\n",
    "plt.xlim(-1,1)\n",
    "plt.ylim(-1,1)\n",
    "plt.xlabel(\"PC{}\".format(1))\n",
    "plt.ylabel(\"PC{}\".format(2))\n",
    "plt.grid()\n",
    "plt.show()"
   ]
  },
  {
   "cell_type": "markdown",
   "metadata": {},
   "source": [
    "# NMF"
   ]
  },
  {
   "cell_type": "code",
   "execution_count": null,
   "metadata": {},
   "outputs": [],
   "source": [
    "##################### NMF Data\n",
    "\n",
    "\n",
    "# First find right number of components with elbow plot\n",
    "x=[1,2,3,4,5,6,10,12,20,29]\n",
    "Errors=[]\n",
    "Errors2=[]\n",
    "randomstate=100\n",
    "for i in x:\n",
    "    model = NMF(n_components=i, init='nndsvdar', solver='mu', max_iter=1000, random_state=76) \n",
    "\n",
    "    W = model.fit_transform(df_MM)\n",
    "    H = model.components_\n",
    "    error=model.reconstruction_err_\n",
    "    Errors.append(error)\n",
    "    \n",
    "plt.figure()\n",
    "plt.plot(x,Errors)\n",
    "plt.title('Correct number of Components')\n",
    "plt.xlabel('Components')\n",
    "plt.ylabel('Reconstruction Error')\n",
    "\n",
    "#### Then find best randomstate\n",
    "\n",
    "for j in range(randomstate):\n",
    "    model_rs=NMF(n_components=29, init='nndsvdar', solver='mu', max_iter=1500, random_state=j) \n",
    "    W_rs = model_rs.fit_transform(df_MM)\n",
    "    H_rs = model_rs.components_ \n",
    "    error2=model_rs.reconstruction_err_\n",
    "    Errors2.append(error2)\n",
    "    \n",
    "plt.figure()\n",
    "plt.plot(range(randomstate),Errors2)\n",
    "plt.title('Best Random State')\n",
    "plt.xlabel('Random State')\n",
    "plt.ylabel('Reconstruction Error')\n",
    "\n",
    "minerror = min(Errors2)\n",
    "errorpos = Errors2.index(minerror)\n",
    "emin = range(randomstate)[errorpos]\n",
    "\n",
    "### Use best random state and best number of components to create best NMF decomposition\n",
    "\n",
    "model_best=NMF(n_components= 29, init='nndsvdar', solver='mu', max_iter=1500, random_state=emin) \n",
    "W_best = model_best.fit_transform(df_MM)\n",
    "H_best = model_best.components_\n",
    "\n",
    "\n",
    "df_W = pd.DataFrame(W_best)\n"
   ]
  },
  {
   "cell_type": "code",
   "execution_count": null,
   "metadata": {},
   "outputs": [],
   "source": [
    "######## NMF Matrix Plots with best model\n",
    "\n",
    "plt.figure()\n",
    "plt.matshow(W_best, aspect='auto', cmap='plasma')\n",
    "plt.title('W')\n",
    "\n",
    "plt.figure()\n",
    "plt.imshow(H_best, cmap='plasma')\n",
    "plt.title('H')"
   ]
  },
  {
   "cell_type": "markdown",
   "metadata": {},
   "source": [
    "## Step 3: Unsupervised Clustering Score (Find Max HCV Score for kmeans clustering)"
   ]
  },
  {
   "cell_type": "code",
   "execution_count": null,
   "metadata": {},
   "outputs": [],
   "source": [
    " ################### Clustering\n",
    "n_clusters=[2,4,6,8,10]\n",
    "random_states=100\n",
    "   \n",
    "###Cluster each data set\n",
    "SS_kmeans=[]\n",
    "HCV_kmeans=[]\n",
    "\n",
    "\n",
    "max_hcv=[]\n",
    "        \n",
    "for q in range(random_states):\n",
    "    y_pred = KMeans(n_clusters=8, random_state=q).fit_predict(W_best)\n",
    "#    y_pred_spec = SpectralClustering(n_clusters=2, random_state=q, affinity='nearest_neighbors', eigen_solver='arpack', assign_labels='kmeans').fit_predict(Features)\n",
    "#    y_pred_agg = AgglomerativeClustering(n_clusters=3).fit_predict(X1)\n",
    "\n",
    "#    Metrics for Clustering \n",
    "\n",
    "#    silhouette_avg = silhouette_score(df1, y_pred)\n",
    "#    print(silhouette_avg)\n",
    "    hcv=v_measure_score(labels ,y_pred)\n",
    "#    print(hcv)\n",
    "#            SS_kmeans.append(silhouette_avg)\n",
    "            \n",
    "    HCV_kmeans.append(hcv)\n",
    "    silhouette_avg = silhouette_score(W_best, y_pred)\n",
    "    SS_kmeans.append(silhouette_avg)\n",
    "    \n",
    "max_HCV = max(HCV_kmeans)  # Find the maximum value\n",
    "max_hcv.append(max_HCV)\n",
    "print(max_hcv)\n",
    "\n",
    "max_HCV_pos = HCV_kmeans.index(max_HCV)\n",
    "hcvmax = range(random_states)[max_HCV_pos]\n",
    "\n",
    "\n",
    "### Best Clustering Configuration\n",
    "\n",
    "y_k_pred=KMeans(n_clusters=8, random_state=hcvmax).fit_predict(W_best)\n",
    "hcv_spec_best=v_measure_score(labels,y_k_pred)\n",
    "print(hcv_spec_best)"
   ]
  },
  {
   "cell_type": "code",
   "execution_count": null,
   "metadata": {},
   "outputs": [],
   "source": [
    "#### Plots of Best Clustering Configuration\n",
    "\n",
    "# Original Data Labels\n",
    "\n",
    "plt.figure()\n",
    "plt.scatter(df_PC.iloc[:,0], df_PC.iloc[:,1], c=labels)\n",
    "plt.xlabel('PC1')\n",
    "plt.ylabel('PC2')\n",
    "plt.title('True Labels')\n",
    "\n",
    "# Labels after Clustering\n",
    "\n",
    "plt.figure()\n",
    "plt.scatter(df_PC.iloc[:,0], df_PC.iloc[:,1], c=y_k_pred)\n",
    "plt.xlabel('PC1')\n",
    "plt.ylabel('PC2')\n",
    "plt.title('Clustered Labels')\n",
    "\n",
    "# Plot Confusion Matrix\n",
    "\n",
    "cm2 = metrics.confusion_matrix(labels ,y_k_pred)\n",
    "plt.figure(figsize=(3,3), dpi=300)\n",
    "sns.heatmap(cm2, annot=True, fmt=\".0f\", linewidths=.5, square = True, cmap = 'magma');\n",
    "plt.ylabel('Actual Label', fontsize=12);\n",
    "plt.xlabel('Predicted Label', fontsize=12);"
   ]
  },
  {
   "cell_type": "markdown",
   "metadata": {},
   "source": [
    "## Step 4: Supervised Classification Score (Find Max Accuracy Training Model- MLR)"
   ]
  },
  {
   "cell_type": "code",
   "execution_count": null,
   "metadata": {},
   "outputs": [],
   "source": [
    "t1 = time.time()\n",
    "random_state=50\n",
    "Accuracy=[]\n",
    "\n",
    "### Find the highest accuracy training model (on test subset) random state\n",
    "\n",
    "for r in range(random_state):\n",
    "    features_train, features_test, labels_train, labels_test = train_test_split(W_best, labels, test_size=0.25, random_state=r)\n",
    "    lr1 = LogisticRegression(solver = 'lbfgs', max_iter=500, multi_class='multinomial')\n",
    "    lr1.fit(features_train, labels_train)\n",
    "\n",
    "\n",
    "# We want to check model performance (accuracy)\n",
    "    accuracy = lr1.score(features_test, labels_test)\n",
    "    Accuracy.append(accuracy)\n",
    "\n",
    "\n",
    "plt.figure()\n",
    "plt.scatter(range(random_state), Accuracy)\n",
    "\n",
    "accuracymax = max(Accuracy)\n",
    "rspos = Accuracy.index(accuracymax)\n",
    "xmax = range(random_state)[rspos]\n",
    "\n",
    "run_time1 = time.time() - t1\n",
    "print('Run Time 1=:', run_time1)\n",
    "\n",
    "\n",
    "### Best Training Model\n",
    "\n",
    "features_train_b, features_test_b, labels_train_b, labels_test_b = train_test_split(W_best, labels, test_size=0.25, random_state=xmax)\n",
    "lr_best = LogisticRegression(solver = 'lbfgs', max_iter=500, multi_class='multinomial')\n",
    "lr_best.fit(features_train_b, labels_train_b)\n",
    "\n",
    "## How does the model look\n",
    "#print(lr1.coef_)\n",
    "\n",
    "\n",
    "\n",
    "### Other Metrics for Best Training Model Data (precision, recall)\n",
    "\n",
    "predictions_best=lr_best.predict(features_test_b)\n",
    "\n",
    "precision = metrics.precision_score(labels_test_b, predictions_best, average='weighted')\n",
    "print('Precision:',precision)\n",
    "recall = metrics.recall_score(labels_test_b, predictions_best, average='weighted')\n",
    "print('Recall:',recall)\n",
    "accuracy_best = lr_best.score(features_test_b, labels_test_b)\n"
   ]
  },
  {
   "cell_type": "code",
   "execution_count": null,
   "metadata": {},
   "outputs": [],
   "source": [
    "### Plot Confusion Matrix for Best Training Model\n",
    "\n",
    "cm1 = metrics.confusion_matrix(labels_test_b, predictions_best)\n",
    "plt.figure(figsize=(5,5), dpi=300)\n",
    "sns.heatmap(cm1, annot=True, fmt=\".0f\", linewidths=.5, square = True, cmap = 'magma');\n",
    "plt.ylabel('Actual Label', fontsize=12);\n",
    "plt.xlabel('Predicted Label', fontsize=12);\n",
    "all_sample_title = 'Overall Accuracy Score: {0}'.format(\"%.2f\" % accuracy_best)\n",
    "plt.title(all_sample_title, size = 14);"
   ]
  },
  {
   "cell_type": "markdown",
   "metadata": {},
   "source": [
    "## Step 5: Statistical Analysis"
   ]
  },
  {
   "cell_type": "code",
   "execution_count": null,
   "metadata": {},
   "outputs": [],
   "source": [
    "All_Dip=[]\n",
    "All_Corr=[]\n",
    "All_Var=[]\n",
    "max_hcv=[]\n",
    "x_=len(df1.columns)"
   ]
  },
  {
   "cell_type": "markdown",
   "metadata": {},
   "source": [
    "# 1. Correlation of Each Column with all other columns"
   ]
  },
  {
   "cell_type": "code",
   "execution_count": null,
   "metadata": {},
   "outputs": [],
   "source": [
    "correlation_mat_=df1.corr()\n",
    "correlation_mat=correlation_mat_.abs()\n",
    "\n",
    "\n",
    "Corr_Avg=[]\n",
    "for i in range(x_):\n",
    "    corr_sum=(correlation_mat.iloc[:,i].sum())-1\n",
    "    corr_avg=(corr_sum/(x_-1))\n",
    "    Corr_Avg.append(corr_avg)\n",
    "\n",
    "corr=pd.DataFrame(Corr_Avg)      \n",
    "avg_corr=corr.mean()\n",
    "All_Corr.append(avg_corr)"
   ]
  },
  {
   "cell_type": "markdown",
   "metadata": {},
   "source": [
    "# 2. Coefficient of Variation"
   ]
  },
  {
   "cell_type": "code",
   "execution_count": null,
   "metadata": {},
   "outputs": [],
   "source": [
    "var_=(variation(df1))*100\n",
    "var=pd.DataFrame(var_)\n",
    "avg_var=var.mean()\n",
    "All_Var.append(avg_var)"
   ]
  },
  {
   "cell_type": "markdown",
   "metadata": {},
   "source": [
    "# 3. Dip Test (using UniDip package)"
   ]
  },
  {
   "cell_type": "code",
   "execution_count": null,
   "metadata": {},
   "outputs": [],
   "source": [
    "Dip=[]\n",
    "Dip_mean=[]\n",
    "\n",
    "for z in range(x_):\n",
    "#    intervals = UniDip(np.msort(df2.iloc[:,z])).run()\n",
    "#    Dip.append(len(intervals))\n",
    "    dip_prob=dip.diptst(df1.iloc[:,z])[1]\n",
    "#           dip_mean=(dip_prob[0]+dip_prob[1])/2\n",
    "    Dip_mean.append(dip_prob)\n",
    "\n",
    "#dip_value=pd.DataFrame(Dip)\n",
    "dip_p_avg=pd.DataFrame(Dip_mean)\n",
    "\n",
    "avg_d=dip_p_avg.mean()\n",
    "All_Dip.append(avg_d)\n",
    "\n",
    "\n",
    "print(avg_d)\n",
    "print(dip_p_avg[dip_p_avg < .5].count())"
   ]
  },
  {
   "cell_type": "markdown",
   "metadata": {},
   "source": [
    "# Plot Statistics"
   ]
  },
  {
   "cell_type": "code",
   "execution_count": null,
   "metadata": {},
   "outputs": [],
   "source": [
    "plt.figure()\n",
    "plt.scatter(var, dip_p_avg, c=Corr_Avg, cmap='gist_rainbow')\n",
    "#plt.vlines(.1, 0, 1, colors='r', linestyles='dotted')\n",
    "#plt.hlines(.1, 0, 100, colors='g', linestyles='dotted')\n",
    "plt.colorbar()\n",
    "#plt.xlim(0,100)\n",
    "plt.ylim(0,1)\n",
    "plt.clim(0,1)\n",
    "plt.xlabel('Coefficient of Variation')\n",
    "plt.ylabel('Dip Test (p-value for null=unimodal)')\n",
    "#plt.cbarlabel('Correlation Average')\n",
    "#plt.yscale('log')"
   ]
  }
 ],
 "metadata": {
  "kernelspec": {
   "display_name": "Python 3 (ipykernel)",
   "language": "python",
   "name": "python3"
  },
  "language_info": {
   "codemirror_mode": {
    "name": "ipython",
    "version": 3
   },
   "file_extension": ".py",
   "mimetype": "text/x-python",
   "name": "python",
   "nbconvert_exporter": "python",
   "pygments_lexer": "ipython3",
   "version": "3.8.11"
  }
 },
 "nbformat": 4,
 "nbformat_minor": 4
}
