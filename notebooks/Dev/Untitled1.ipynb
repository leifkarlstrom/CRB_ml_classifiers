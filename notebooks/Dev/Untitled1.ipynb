{
 "cells": [
  {
   "cell_type": "markdown",
   "id": "b4ec1c75-700d-4ec4-b574-0d1c4a57ed21",
   "metadata": {},
   "source": [
    "# Gaussian Mixture Models of CRB geochem\n",
    "\n",
    "Load pre-computed Gaussian Mixture Models for two different assumed cluster numbers (5 and 21) and plot average compositional statistics"
   ]
  },
  {
   "cell_type": "code",
   "execution_count": 1,
   "id": "07619bae-a427-4d71-9ed3-78a468089da9",
   "metadata": {
    "tags": []
   },
   "outputs": [],
   "source": [
    "import matplotlib.pyplot as plt\n",
    "import numpy as np\n",
    "import pandas as pd\n",
    "import pickle"
   ]
  },
  {
   "cell_type": "code",
   "execution_count": 3,
   "id": "f9f6292c-be39-41be-9941-6e9a6628f2bc",
   "metadata": {
    "tags": []
   },
   "outputs": [
    {
     "data": {
      "text/plain": [
       "array([0, 0, 5, ..., 9, 9, 9])"
      ]
     },
     "execution_count": 3,
     "metadata": {},
     "output_type": "execute_result"
    }
   ],
   "source": [
    "#filename = 'gmm_model_5clusters_maxFeatures.pkl'\n",
    "\n",
    "filename = 'gmm_model_21clusters_maxFeatures.pkl'\n",
    "\n",
    "# Load the GMM model using pickle\n",
    "with open(filename, 'rb') as file:\n",
    "    loaded_gmm = pickle.load(file)\n",
    "\n"
   ]
  },
  {
   "cell_type": "code",
   "execution_count": null,
   "id": "0f756ab4-f48a-4bb3-871c-9930d6674be4",
   "metadata": {},
   "outputs": [],
   "source": [
    "loaded_gmm"
   ]
  }
 ],
 "metadata": {
  "kernelspec": {
   "display_name": "Python 3 (ipykernel)",
   "language": "python",
   "name": "python3"
  },
  "language_info": {
   "codemirror_mode": {
    "name": "ipython",
    "version": 3
   },
   "file_extension": ".py",
   "mimetype": "text/x-python",
   "name": "python",
   "nbconvert_exporter": "python",
   "pygments_lexer": "ipython3",
   "version": "3.11.5"
  }
 },
 "nbformat": 4,
 "nbformat_minor": 5
}
