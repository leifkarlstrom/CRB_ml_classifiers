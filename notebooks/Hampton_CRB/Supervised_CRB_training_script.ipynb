{
 "cells": [
  {
   "cell_type": "markdown",
   "metadata": {},
   "source": [
    "# Supervised learning/classification of Columbia River Basalt data\n",
    "\n",
    "This script trains a logistic regression model for classifying CRB samples, focusing on major and trace lements (+/- magnetic polarity) at the formation and member levels\n",
    "\n",
    "Authors: Rachel Hampton and Leif Karlstrom, 2024"
   ]
  },
  {
   "cell_type": "code",
   "execution_count": 92,
   "metadata": {
    "tags": []
   },
   "outputs": [
    {
     "name": "stdout",
     "output_type": "stream",
     "text": [
      "/Users/leif/gitrepos/learngeochem/notebooks/Hampton_CRB\n"
     ]
    }
   ],
   "source": [
    "import matplotlib.pyplot as plt\n",
    "import matplotlib.cm as cm\n",
    "import numpy as np\n",
    "import pandas as pd\n",
    "from sklearn.linear_model import LogisticRegression\n",
    "from sklearn.model_selection import train_test_split\n",
    "import time\n",
    "from sklearn.metrics import confusion_matrix\n",
    "from sklearn import metrics\n",
    "import seaborn as sns\n",
    "from sklearn.metrics.cluster import v_measure_score\n",
    "from scipy import stats\n",
    "#from sklearn.preprocessing import Normalizer\n",
    "#from sklearn.preprocessing import PowerTransformer\n",
    "from importlib import reload\n",
    "import math\n",
    "from sklearn.utils import resample\n",
    "from IPython.display import display\n",
    "import pickle\n",
    "import sys\n",
    "import importlib\n",
    "\n",
    "sys.path.append('../../scripts/')\n",
    "# Contains special functions used in the script\n",
    "import GeochemFunctions as geofctns\n",
    "importlib.reload(geofctns)\n",
    "\n",
    "!pwd"
   ]
  },
  {
   "cell_type": "markdown",
   "metadata": {},
   "source": [
    "## Here is where we load data"
   ]
  },
  {
   "cell_type": "code",
   "execution_count": 93,
   "metadata": {
    "tags": []
   },
   "outputs": [
    {
     "name": "stderr",
     "output_type": "stream",
     "text": [
      "/var/folders/sc/l94184295fdfnlyrwdthmhwc0000gq/T/ipykernel_90874/735230004.py:21: SettingWithCopyWarning: \n",
      "A value is trying to be set on a copy of a slice from a DataFrame\n",
      "\n",
      "See the caveats in the documentation: https://pandas.pydata.org/pandas-docs/stable/user_guide/indexing.html#returning-a-view-versus-a-copy\n",
      "  features_.drop(features_.index[features_['MemberID'] == 47], inplace=True)\n"
     ]
    },
    {
     "name": "stdout",
     "output_type": "stream",
     "text": [
      "   MemberID           Member  NumSamples\n",
      "3       0.0     PictureGorge         138\n",
      "0       1.0           Steens         110\n",
      "1       2.0           Imnaha         195\n",
      "2       3.0      GrandeRonde        2286\n",
      "4       4.0          Wanapum         960\n",
      "5       5.0  SaddleMountains         911\n",
      "Index(['SiO2', 'TiO2', 'Al2O3', 'MnO', 'MgO', 'CaO', 'Na2O', 'K2O', 'P2O5',\n",
      "       'Ni', 'Cr', 'Sc', 'V', 'Ba', 'Rb', 'Sr', 'Zr', 'Y', 'Nb', 'Cu',\n",
      "       'Formation', 'Member', 'MemberID', 'FormationID', 'Polarity'],\n",
      "      dtype='object')\n",
      "         SiO2      TiO2      Al2O3       MnO       MgO        CaO      Na2O  \\\n",
      "0   48.960000  1.760000  15.330000  0.180000  7.390000  10.260000  2.820000   \n",
      "89  48.863779  2.214191  18.050801  0.174041  4.820505  10.161439  3.452124   \n",
      "88  48.223128  2.155195  16.888956  0.168799  6.751964   8.961256  3.264790   \n",
      "\n",
      "         K2O      P2O5        Ni        Cr      Sc        V        Ba  \\\n",
      "0   0.460000  0.210000  179.0000  193.0000  27.520  292.000  372.0000   \n",
      "89  0.725388  0.318089   77.1840   85.5255  27.738  356.373  275.7720   \n",
      "88  0.911906  0.346472  133.5645   48.6420  27.135  314.766  329.9415   \n",
      "\n",
      "         Rb        Sr        Zr        Y       Nb        Cu  \n",
      "0   11.0000  367.0000  123.0000  23.0000   7.0000  132.0000  \n",
      "89   9.1455  519.1830  146.6295  29.5470   9.9495  162.9105  \n",
      "88  13.6680  490.9425  146.5290  28.4415  10.2510  223.0095  \n",
      "(4600, 210)\n"
     ]
    }
   ],
   "source": [
    "############# CRB DATAFRAME UPDATED\n",
    "#NOTE: the \"Umtanum\" member class has been dropped from this version\n",
    "path = '/Users/leif/gitrepos/learngeochem/data/CRB/CRB_dataframe_completed_2024_V2.csv'\n",
    "data_=pd.read_csv(path, header=0)\n",
    "\n",
    "features_sorted = data_.sort_values([\"MemberID\"], ascending=True)\n",
    "\n",
    "#############################################\n",
    "######### Here is where we decide what elements/ features to classify on\n",
    "\n",
    "#this one maximizes the number of samples\n",
    "#features__ = features_sorted.drop(columns=['FeO*', 'FeO', 'Fe2O3','Y','V', 'Nb', 'Ga', 'Cu','Zn', 'Pb', 'La', 'Ce', 'Th', 'U', 'Source'])\n",
    "\n",
    "#this maximizes the accuracy by including more elements, still retaining Indian Ridge member from Reidel (restrictive...)\n",
    "#features__ = features_sorted.drop(columns=['FeO*', 'FeO', 'Fe2O3', 'Ga', 'Cu', 'Zn', 'U', 'Source'])\n",
    "features__ = features_sorted.drop(columns=['FeO*', 'FeO', 'Fe2O3', 'Ga', 'La', 'Ce', 'Zn','Pb','Th', 'U', 'Source'])\n",
    "\n",
    "features_ = features__.dropna(axis=0, how='any')\n",
    "\n",
    "#drop the \"undifferentiated\" member class --- come back to this later?\n",
    "features_.drop(features_.index[features_['MemberID'] == 47], inplace=True)\n",
    "\n",
    "#############################################\n",
    "######### Here is where we decide whether to classify on member vs formation \n",
    "#member level\n",
    "# labels= features_.loc[:,'MemberID']\n",
    "# label_names=features_.loc[:,'Member']\n",
    "\n",
    "# IDlabel = 'MemberID'\n",
    "# IDname = 'Member'\n",
    "\n",
    "#formation level\n",
    "labels= features_.loc[:,'FormationID']\n",
    "## 0=PGB, 1=Steens, 2=Imnaha, 3=GRB, 4=Wanapum, 5=SMB\n",
    "\n",
    "label_names=features_.loc[:,'Formation']\n",
    "IDlabel = 'FormationID'\n",
    "IDname = 'Formation'\n",
    "\n",
    "df = features_\n",
    "labels_df = labels#labelz #labelz is member level\n",
    "#############################################\n",
    "#Build lookup table connecting IDs to names of classes\n",
    "# Find unique class IDs\n",
    "unique_ID = labels.unique()\n",
    "\n",
    "NumSamplesPerClass = []\n",
    "ClassName = []\n",
    "\n",
    "for value in unique_ID:\n",
    "    corresponding_class = df[df[IDlabel] == value][IDname].values\n",
    "    NumSamplesPerClass.append(len(corresponding_class))\n",
    "    ClassName.append(df[df[IDlabel] == value][IDname].values[0])\n",
    "    \n",
    "LookupTable = pd.DataFrame({'MemberID': unique_ID, 'Member': ClassName, 'NumSamples': NumSamplesPerClass})\n",
    "LookupTable = LookupTable.sort_values(by='MemberID')\n",
    "\n",
    "print(LookupTable)\n",
    "#save the features used \n",
    "filename = IDname+'LookupTable.pkl'\n",
    "pickle.dump(LookupTable, open(filename, 'wb'))\n",
    "print(df.columns)\n",
    "#############################################\n",
    "\n",
    "df = df.drop(columns=['Member', 'MemberID', 'FormationID', 'Formation', 'Polarity'])\n",
    "\n",
    "print(df.head(3))\n",
    "\n",
    "filename = 'TrainingDataFeatures.pkl' #_maximize_elements\n",
    "pickle.dump(df.columns.values, open(filename, 'wb'))\n",
    "#print(df.columns.values)\n",
    "\n",
    "#make ratios between every feature and every other feature  \n",
    "df = pd.DataFrame(geofctns.makeratios(df))\n",
    "\n",
    "#power transform to normalize values\n",
    "df = geofctns.normalizedata(df,'powert')\n",
    "\n",
    "print(np.shape(df))\n"
   ]
  },
  {
   "cell_type": "code",
   "execution_count": 64,
   "metadata": {
    "jupyter": {
     "source_hidden": true
    },
    "tags": []
   },
   "outputs": [],
   "source": [
    "#################################\n",
    "#if needed, divide up into stratigraphic labels of interest \n",
    "\n",
    "df_gr= features_.loc[(features_['FormationID'] == 3)]\n",
    "df_st= data_.loc[(data_['FormationID'] == 1)]\n",
    "df_sm= data_.loc[(data_['FormationID'] == 5)]\n",
    "df_pg= data_.loc[(data_['FormationID'] == 0)]\n",
    "df_im= data_.loc[(data_['FormationID'] == 2)]\n",
    "df_wp= data_.loc[(data_['FormationID'] == 4)]\n",
    "df_wap=data_.loc[(data_['MemberID'] == 20)]\n",
    "\n",
    "df_mr=data_.loc[(data_['MemberID'] == 22)]\n",
    "\n",
    "\n",
    "df_sb=data_.loc[(data_['MemberID'] == 30)]\n",
    "#df_bs=data_.loc[(data_['MemberID'] == 9)]\n",
    "#df_em=data_.loc[(data_['MemberID'] == 35)]\n",
    "#df_tb=data_.loc[(data_['MemberID'] == 11)]\n",
    "#df_rb=data.loc[(data['MemberID'] == 6)]\n",
    "#df_pomona=data.loc[(data['MemberID'] == 39)]\n",
    "#df_weippe=data.loc[(data['MemberID'] == 40)]\n",
    "#df_mthr=data.loc[(data['MemberID'] == 17)]\n",
    "df_gc=data_.loc[(data_['MemberID'] == 21)]\n",
    "#df_fs=data_.loc[(data_['MemberID'] == 30)]\n",
    "df_reversed_ = df_gr.loc[(data_['Polarity'] == 0)]\n",
    "\n",
    "rv_labels= pd.DataFrame(df_reversed_.loc[:,'MemberID'])\n",
    "df_reversed = df_reversed_.drop(columns=['Member','MemberID', 'FormationID', 'Polarity'])\n",
    "\n",
    "\n",
    "\n",
    "df_gr= features_.loc[(features_['FormationID'] == 3)] #Grande Ronde\n",
    "#df_gr.drop(df_gr.index[df_gr['MemberID'] == 48], inplace=True)\n",
    "gr_labels= pd.DataFrame(df_gr.loc[:,'MemberID'])\n",
    "\n",
    "\n",
    "#dfgr = df_gr.drop(columns=['Member','MemberID', 'FormationID'])\n",
    "dfgr = df_gr.drop(columns=['Member','MemberID', 'FormationID'])\n",
    "\n",
    "#Imnaha Data For Training\n",
    "df_im= features_.loc[(features_['FormationID'] == 2)] #Grande Ronde\n",
    "#df_gr.drop(df_gr.index[df_gr['MemberID'] == 48], inplace=True)\n",
    "im_labels= pd.DataFrame(df_im.loc[:,'MemberID'])\n",
    "\n",
    "\n",
    "#dfgr = df_gr.drop(columns=['Member','MemberID', 'FormationID'])\n",
    "dfim = df_im.drop(columns=['Member','MemberID', 'FormationID'])\n",
    "\n"
   ]
  },
  {
   "cell_type": "markdown",
   "metadata": {},
   "source": [
    "# Train model for formation level classification"
   ]
  },
  {
   "cell_type": "code",
   "execution_count": 94,
   "metadata": {
    "tags": []
   },
   "outputs": [],
   "source": [
    "############### Train model by iterating over the random state parameter\n",
    "\n",
    "#no polarity for now\n",
    "#df = df.drop(columns=['Polarity'])\n",
    "    \n",
    "t1 = time.time()\n",
    "random_state=35\n",
    "Accuracy=[]\n",
    "for r in range(random_state):\n",
    "    features_train, features_test, labels_train, labels_test = train_test_split(df, labels_df, test_size=.3, random_state=r, stratify = labels_df)\n",
    "    lr1 = LogisticRegression(solver = 'lbfgs', max_iter=1000, multi_class='multinomial')\n",
    "    lr1.fit(features_train, labels_train)\n",
    "\n",
    "# We want to check model performance (accuracy)\n",
    "    accuracy = lr1.score(features_test, labels_test)\n",
    "    Accuracy.append(accuracy)    "
   ]
  },
  {
   "cell_type": "code",
   "execution_count": 95,
   "metadata": {
    "tags": []
   },
   "outputs": [
    {
     "data": {
      "text/plain": [
       "35"
      ]
     },
     "execution_count": 95,
     "metadata": {},
     "output_type": "execute_result"
    },
    {
     "data": {
      "image/png": "[encoded data removed]",
      "text/plain": [
       "<Figure size 640x480 with 1 Axes>"
      ]
     },
     "metadata": {},
     "output_type": "display_data"
    }
   ],
   "source": [
    "plt.figure()\n",
    "plt.scatter(range(random_state), Accuracy)\n",
    "random_state"
   ]
  },
  {
   "cell_type": "code",
   "execution_count": 96,
   "metadata": {
    "tags": []
   },
   "outputs": [
    {
     "name": "stdout",
     "output_type": "stream",
     "text": [
      "Run Time 1=: 41.538804054260254\n"
     ]
    },
    {
     "data": {
      "text/html": [
       "<style>#sk-container-id-12 {color: black;}#sk-container-id-12 pre{padding: 0;}#sk-container-id-12 div.sk-toggleable {background-color: white;}#sk-container-id-12 label.sk-toggleable__label {cursor: pointer;display: block;width: 100%;margin-bottom: 0;padding: 0.3em;box-sizing: border-box;text-align: center;}#sk-container-id-12 label.sk-toggleable__label-arrow:before {content: \"▸\";float: left;margin-right: 0.25em;color: #696969;}#sk-container-id-12 label.sk-toggleable__label-arrow:hover:before {color: black;}#sk-container-id-12 div.sk-estimator:hover label.sk-toggleable__label-arrow:before {color: black;}#sk-container-id-12 div.sk-toggleable__content {max-height: 0;max-width: 0;overflow: hidden;text-align: left;background-color: #f0f8ff;}#sk-container-id-12 div.sk-toggleable__content pre {margin: 0.2em;color: black;border-radius: 0.25em;background-color: #f0f8ff;}#sk-container-id-12 input.sk-toggleable__control:checked~div.sk-toggleable__content {max-height: 200px;max-width: 100%;overflow: auto;}#sk-container-id-12 input.sk-toggleable__control:checked~label.sk-toggleable__label-arrow:before {content: \"▾\";}#sk-container-id-12 div.sk-estimator input.sk-toggleable__control:checked~label.sk-toggleable__label {background-color: #d4ebff;}#sk-container-id-12 div.sk-label input.sk-toggleable__control:checked~label.sk-toggleable__label {background-color: #d4ebff;}#sk-container-id-12 input.sk-hidden--visually {border: 0;clip: rect(1px 1px 1px 1px);clip: rect(1px, 1px, 1px, 1px);height: 1px;margin: -1px;overflow: hidden;padding: 0;position: absolute;width: 1px;}#sk-container-id-12 div.sk-estimator {font-family: monospace;background-color: #f0f8ff;border: 1px dotted black;border-radius: 0.25em;box-sizing: border-box;margin-bottom: 0.5em;}#sk-container-id-12 div.sk-estimator:hover {background-color: #d4ebff;}#sk-container-id-12 div.sk-parallel-item::after {content: \"\";width: 100%;border-bottom: 1px solid gray;flex-grow: 1;}#sk-container-id-12 div.sk-label:hover label.sk-toggleable__label {background-color: #d4ebff;}#sk-container-id-12 div.sk-serial::before {content: \"\";position: absolute;border-left: 1px solid gray;box-sizing: border-box;top: 0;bottom: 0;left: 50%;z-index: 0;}#sk-container-id-12 div.sk-serial {display: flex;flex-direction: column;align-items: center;background-color: white;padding-right: 0.2em;padding-left: 0.2em;position: relative;}#sk-container-id-12 div.sk-item {position: relative;z-index: 1;}#sk-container-id-12 div.sk-parallel {display: flex;align-items: stretch;justify-content: center;background-color: white;position: relative;}#sk-container-id-12 div.sk-item::before, #sk-container-id-12 div.sk-parallel-item::before {content: \"\";position: absolute;border-left: 1px solid gray;box-sizing: border-box;top: 0;bottom: 0;left: 50%;z-index: -1;}#sk-container-id-12 div.sk-parallel-item {display: flex;flex-direction: column;z-index: 1;position: relative;background-color: white;}#sk-container-id-12 div.sk-parallel-item:first-child::after {align-self: flex-end;width: 50%;}#sk-container-id-12 div.sk-parallel-item:last-child::after {align-self: flex-start;width: 50%;}#sk-container-id-12 div.sk-parallel-item:only-child::after {width: 0;}#sk-container-id-12 div.sk-dashed-wrapped {border: 1px dashed gray;margin: 0 0.4em 0.5em 0.4em;box-sizing: border-box;padding-bottom: 0.4em;background-color: white;}#sk-container-id-12 div.sk-label label {font-family: monospace;font-weight: bold;display: inline-block;line-height: 1.2em;}#sk-container-id-12 div.sk-label-container {text-align: center;}#sk-container-id-12 div.sk-container {/* jupyter's `normalize.less` sets `[hidden] { display: none; }` but bootstrap.min.css set `[hidden] { display: none !important; }` so we also need the `!important` here to be able to override the default hidden behavior on the sphinx rendered scikit-learn.org. See: https://github.com/scikit-learn/scikit-learn/issues/21755 */display: inline-block !important;position: relative;}#sk-container-id-12 div.sk-text-repr-fallback {display: none;}</style><div id=\"sk-container-id-12\" class=\"sk-top-container\"><div class=\"sk-text-repr-fallback\"><pre>LogisticRegression(max_iter=2500, multi_class=&#x27;multinomial&#x27;)</pre><b>In a Jupyter environment, please rerun this cell to show the HTML representation or trust the notebook. <br />On GitHub, the HTML representation is unable to render, please try loading this page with nbviewer.org.</b></div><div class=\"sk-container\" hidden><div class=\"sk-item\"><div class=\"sk-estimator sk-toggleable\"><input class=\"sk-toggleable__control sk-hidden--visually\" id=\"sk-estimator-id-12\" type=\"checkbox\" checked><label for=\"sk-estimator-id-12\" class=\"sk-toggleable__label sk-toggleable__label-arrow\">LogisticRegression</label><div class=\"sk-toggleable__content\"><pre>LogisticRegression(max_iter=2500, multi_class=&#x27;multinomial&#x27;)</pre></div></div></div></div></div>"
      ],
      "text/plain": [
       "LogisticRegression(max_iter=2500, multi_class='multinomial')"
      ]
     },
     "execution_count": 96,
     "metadata": {},
     "output_type": "execute_result"
    }
   ],
   "source": [
    "accuracymax = max(Accuracy)\n",
    "rspos = Accuracy.index(accuracymax)\n",
    "xmax = range(random_state)[rspos]\n",
    "\n",
    "run_time1 = time.time() - t1\n",
    "print('Run Time 1=:', run_time1)\n",
    "\n",
    "features_train_b, features_test_b, labels_train_b, labels_test_b = train_test_split(df, labels_df, test_size=0.3, random_state=xmax, stratify = labels_df)\n",
    "lr_best = LogisticRegression(solver = 'lbfgs', max_iter=2500, multi_class='multinomial')\n",
    "lr_best.fit(features_train_b, labels_train_b)"
   ]
  },
  {
   "cell_type": "code",
   "execution_count": 97,
   "metadata": {
    "tags": []
   },
   "outputs": [
    {
     "name": "stdout",
     "output_type": "stream",
     "text": [
      "Precision: 0.9877605413759738\n",
      "Recall: 0.9876811594202899\n"
     ]
    },
    {
     "data": {
      "image/png": "[encoded data removed]",
      "text/plain": [
       "<Figure size 1000x1000 with 2 Axes>"
      ]
     },
     "metadata": {},
     "output_type": "display_data"
    }
   ],
   "source": [
    "### Metrics for Test Data (accuracy, HCV, precision, recall)\n",
    "\n",
    "predictions_best=lr_best.predict(features_test_b)\n",
    "\n",
    "precision = metrics.precision_score(labels_test_b, predictions_best, average='weighted')\n",
    "print('Precision:',precision)\n",
    "recall = metrics.recall_score(labels_test_b, predictions_best, average='weighted')\n",
    "print('Recall:',recall)\n",
    "accuracy_best = lr_best.score(features_test_b, labels_test_b)\n",
    "\n",
    "labels_test_b=pd.DataFrame(labels_test_b)\n",
    "\n",
    "cm_labelz=labels_test_b.sort_values([IDlabel], ascending=True)\n",
    "cm_labels=cm_labelz[IDlabel].unique()\n",
    "\n",
    "### Plot Confusion Matrix\n",
    "formations = ['Picture Gorge',' Steens', 'Imnaha', 'Grande Ronde', 'Wanapum', 'Saddle Mountains']\n",
    "cm2 = pd.DataFrame(metrics.confusion_matrix(labels_test_b, predictions_best))\n",
    "plt.figure(figsize=(10,10))\n",
    "sns.heatmap(cm2, annot=True, fmt=\".0f\", linewidths=.5, square = True, cmap = 'Blues', xticklabels=cm_labels, yticklabels=cm_labels);\n",
    "plt.ylabel('Actual Stratigraphic Label', fontsize=12);\n",
    "plt.xlabel('Predicted Stratigraphic Label', fontsize=12);\n",
    "all_sample_title = 'Overall Accuracy Score: {0}'.format(\"%.2f\" % accuracy_best)\n",
    "plt.title(all_sample_title, size = 14);"
   ]
  },
  {
   "cell_type": "markdown",
   "metadata": {},
   "source": [
    "## Now generate a model that uses 100% of the data\n",
    "\n",
    "After assessing accuracy on part of the training dataset, we want the best possible model to use for classifying unknown samples"
   ]
  },
  {
   "cell_type": "code",
   "execution_count": 98,
   "metadata": {
    "tags": []
   },
   "outputs": [
    {
     "data": {
      "text/html": [
       "<style>#sk-container-id-13 {color: black;}#sk-container-id-13 pre{padding: 0;}#sk-container-id-13 div.sk-toggleable {background-color: white;}#sk-container-id-13 label.sk-toggleable__label {cursor: pointer;display: block;width: 100%;margin-bottom: 0;padding: 0.3em;box-sizing: border-box;text-align: center;}#sk-container-id-13 label.sk-toggleable__label-arrow:before {content: \"▸\";float: left;margin-right: 0.25em;color: #696969;}#sk-container-id-13 label.sk-toggleable__label-arrow:hover:before {color: black;}#sk-container-id-13 div.sk-estimator:hover label.sk-toggleable__label-arrow:before {color: black;}#sk-container-id-13 div.sk-toggleable__content {max-height: 0;max-width: 0;overflow: hidden;text-align: left;background-color: #f0f8ff;}#sk-container-id-13 div.sk-toggleable__content pre {margin: 0.2em;color: black;border-radius: 0.25em;background-color: #f0f8ff;}#sk-container-id-13 input.sk-toggleable__control:checked~div.sk-toggleable__content {max-height: 200px;max-width: 100%;overflow: auto;}#sk-container-id-13 input.sk-toggleable__control:checked~label.sk-toggleable__label-arrow:before {content: \"▾\";}#sk-container-id-13 div.sk-estimator input.sk-toggleable__control:checked~label.sk-toggleable__label {background-color: #d4ebff;}#sk-container-id-13 div.sk-label input.sk-toggleable__control:checked~label.sk-toggleable__label {background-color: #d4ebff;}#sk-container-id-13 input.sk-hidden--visually {border: 0;clip: rect(1px 1px 1px 1px);clip: rect(1px, 1px, 1px, 1px);height: 1px;margin: -1px;overflow: hidden;padding: 0;position: absolute;width: 1px;}#sk-container-id-13 div.sk-estimator {font-family: monospace;background-color: #f0f8ff;border: 1px dotted black;border-radius: 0.25em;box-sizing: border-box;margin-bottom: 0.5em;}#sk-container-id-13 div.sk-estimator:hover {background-color: #d4ebff;}#sk-container-id-13 div.sk-parallel-item::after {content: \"\";width: 100%;border-bottom: 1px solid gray;flex-grow: 1;}#sk-container-id-13 div.sk-label:hover label.sk-toggleable__label {background-color: #d4ebff;}#sk-container-id-13 div.sk-serial::before {content: \"\";position: absolute;border-left: 1px solid gray;box-sizing: border-box;top: 0;bottom: 0;left: 50%;z-index: 0;}#sk-container-id-13 div.sk-serial {display: flex;flex-direction: column;align-items: center;background-color: white;padding-right: 0.2em;padding-left: 0.2em;position: relative;}#sk-container-id-13 div.sk-item {position: relative;z-index: 1;}#sk-container-id-13 div.sk-parallel {display: flex;align-items: stretch;justify-content: center;background-color: white;position: relative;}#sk-container-id-13 div.sk-item::before, #sk-container-id-13 div.sk-parallel-item::before {content: \"\";position: absolute;border-left: 1px solid gray;box-sizing: border-box;top: 0;bottom: 0;left: 50%;z-index: -1;}#sk-container-id-13 div.sk-parallel-item {display: flex;flex-direction: column;z-index: 1;position: relative;background-color: white;}#sk-container-id-13 div.sk-parallel-item:first-child::after {align-self: flex-end;width: 50%;}#sk-container-id-13 div.sk-parallel-item:last-child::after {align-self: flex-start;width: 50%;}#sk-container-id-13 div.sk-parallel-item:only-child::after {width: 0;}#sk-container-id-13 div.sk-dashed-wrapped {border: 1px dashed gray;margin: 0 0.4em 0.5em 0.4em;box-sizing: border-box;padding-bottom: 0.4em;background-color: white;}#sk-container-id-13 div.sk-label label {font-family: monospace;font-weight: bold;display: inline-block;line-height: 1.2em;}#sk-container-id-13 div.sk-label-container {text-align: center;}#sk-container-id-13 div.sk-container {/* jupyter's `normalize.less` sets `[hidden] { display: none; }` but bootstrap.min.css set `[hidden] { display: none !important; }` so we also need the `!important` here to be able to override the default hidden behavior on the sphinx rendered scikit-learn.org. See: https://github.com/scikit-learn/scikit-learn/issues/21755 */display: inline-block !important;position: relative;}#sk-container-id-13 div.sk-text-repr-fallback {display: none;}</style><div id=\"sk-container-id-13\" class=\"sk-top-container\"><div class=\"sk-text-repr-fallback\"><pre>LogisticRegression(max_iter=2500, multi_class=&#x27;multinomial&#x27;)</pre><b>In a Jupyter environment, please rerun this cell to show the HTML representation or trust the notebook. <br />On GitHub, the HTML representation is unable to render, please try loading this page with nbviewer.org.</b></div><div class=\"sk-container\" hidden><div class=\"sk-item\"><div class=\"sk-estimator sk-toggleable\"><input class=\"sk-toggleable__control sk-hidden--visually\" id=\"sk-estimator-id-13\" type=\"checkbox\" checked><label for=\"sk-estimator-id-13\" class=\"sk-toggleable__label sk-toggleable__label-arrow\">LogisticRegression</label><div class=\"sk-toggleable__content\"><pre>LogisticRegression(max_iter=2500, multi_class=&#x27;multinomial&#x27;)</pre></div></div></div></div></div>"
      ],
      "text/plain": [
       "LogisticRegression(max_iter=2500, multi_class='multinomial')"
      ]
     },
     "execution_count": 98,
     "metadata": {},
     "output_type": "execute_result"
    }
   ],
   "source": [
    "#### With 100% of the data:\n",
    "lr_best_100 = LogisticRegression(solver = 'lbfgs', max_iter=2500, multi_class='multinomial')\n",
    "lr_best_100.fit(df, labels_df)\n",
    "\n",
    "data_labels_100=labels_df\n",
    "\n",
    "lr_best_100"
   ]
  },
  {
   "cell_type": "code",
   "execution_count": 99,
   "metadata": {
    "tags": []
   },
   "outputs": [],
   "source": [
    "# save the model to disk, for fugure use\n",
    "filename = 'CRB_' + IDname + '_trainedon_100pct_all_members.pkl' #_maximize_elements\n",
    "pickle.dump(lr_best_100, open(filename, 'wb'))\n",
    "\n",
    "datalabelname = 'CRB_' + IDname + '_labels_all_members.pkl' #_maximize_elements\n",
    "pickle.dump(data_labels_100, open(datalabelname, 'wb'))"
   ]
  },
  {
   "cell_type": "code",
   "execution_count": null,
   "metadata": {},
   "outputs": [],
   "source": []
  }
 ],
 "metadata": {
  "kernelspec": {
   "display_name": "Python 3 (ipykernel)",
   "language": "python",
   "name": "python3"
  },
  "language_info": {
   "codemirror_mode": {
    "name": "ipython",
    "version": 3
   },
   "file_extension": ".py",
   "mimetype": "text/x-python",
   "name": "python",
   "nbconvert_exporter": "python",
   "pygments_lexer": "ipython3",
   "version": "3.11.5"
  }
 },
 "nbformat": 4,
 "nbformat_minor": 4
}
